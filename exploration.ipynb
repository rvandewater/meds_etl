{
 "cells": [
  {
   "cell_type": "code",
   "id": "initial_id",
   "metadata": {
    "collapsed": true,
    "ExecuteTime": {
     "end_time": "2025-03-04T09:49:32.268895Z",
     "start_time": "2025-03-04T09:49:32.184109Z"
    }
   },
   "source": "import polars as pl",
   "outputs": [],
   "execution_count": 2
  },
  {
   "metadata": {
    "ExecuteTime": {
     "end_time": "2025-02-07T12:31:13.607417Z",
     "start_time": "2025-02-07T12:31:13.486588Z"
    }
   },
   "cell_type": "code",
   "source": "pl.read_csv(\"/Users/robin/Documents/datasets/mimic-iv-demo-data-in-the-omop-common-data-model-0.9/1_omop_data_csv/measurement.csv\")",
   "id": "2660c57fc858be5b",
   "outputs": [
    {
     "ename": "ComputeError",
     "evalue": "could not parse `1.21` as dtype `i64` at column 'value_as_number' (column number 9)\n\nThe current offset in the file is 57767 bytes.\n\nYou might want to try:\n- increasing `infer_schema_length` (e.g. `infer_schema_length=10000`),\n- specifying correct dtype with the `schema_overrides` argument\n- setting `ignore_errors` to `True`,\n- adding `1.21` to the `null_values` list.\n\nOriginal error: ```remaining bytes non-empty```",
     "output_type": "error",
     "traceback": [
      "\u001B[0;31m---------------------------------------------------------------------------\u001B[0m",
      "\u001B[0;31mComputeError\u001B[0m                              Traceback (most recent call last)",
      "Cell \u001B[0;32mIn[3], line 1\u001B[0m\n\u001B[0;32m----> 1\u001B[0m \u001B[43mpl\u001B[49m\u001B[38;5;241;43m.\u001B[39;49m\u001B[43mread_csv\u001B[49m\u001B[43m(\u001B[49m\u001B[38;5;124;43m\"\u001B[39;49m\u001B[38;5;124;43m/Users/robin/Documents/datasets/mimic-iv-demo-data-in-the-omop-common-data-model-0.9/1_omop_data_csv/measurement.csv\u001B[39;49m\u001B[38;5;124;43m\"\u001B[39;49m\u001B[43m)\u001B[49m\n",
      "File \u001B[0;32m/opt/miniconda3/envs/meds_etl/lib/python3.10/site-packages/polars/_utils/deprecation.py:92\u001B[0m, in \u001B[0;36mdeprecate_renamed_parameter.<locals>.decorate.<locals>.wrapper\u001B[0;34m(*args, **kwargs)\u001B[0m\n\u001B[1;32m     87\u001B[0m \u001B[38;5;129m@wraps\u001B[39m(function)\n\u001B[1;32m     88\u001B[0m \u001B[38;5;28;01mdef\u001B[39;00m \u001B[38;5;21mwrapper\u001B[39m(\u001B[38;5;241m*\u001B[39margs: P\u001B[38;5;241m.\u001B[39margs, \u001B[38;5;241m*\u001B[39m\u001B[38;5;241m*\u001B[39mkwargs: P\u001B[38;5;241m.\u001B[39mkwargs) \u001B[38;5;241m-\u001B[39m\u001B[38;5;241m>\u001B[39m T:\n\u001B[1;32m     89\u001B[0m     _rename_keyword_argument(\n\u001B[1;32m     90\u001B[0m         old_name, new_name, kwargs, function\u001B[38;5;241m.\u001B[39m\u001B[38;5;18m__qualname__\u001B[39m, version\n\u001B[1;32m     91\u001B[0m     )\n\u001B[0;32m---> 92\u001B[0m     \u001B[38;5;28;01mreturn\u001B[39;00m \u001B[43mfunction\u001B[49m\u001B[43m(\u001B[49m\u001B[38;5;241;43m*\u001B[39;49m\u001B[43margs\u001B[49m\u001B[43m,\u001B[49m\u001B[43m \u001B[49m\u001B[38;5;241;43m*\u001B[39;49m\u001B[38;5;241;43m*\u001B[39;49m\u001B[43mkwargs\u001B[49m\u001B[43m)\u001B[49m\n",
      "File \u001B[0;32m/opt/miniconda3/envs/meds_etl/lib/python3.10/site-packages/polars/_utils/deprecation.py:92\u001B[0m, in \u001B[0;36mdeprecate_renamed_parameter.<locals>.decorate.<locals>.wrapper\u001B[0;34m(*args, **kwargs)\u001B[0m\n\u001B[1;32m     87\u001B[0m \u001B[38;5;129m@wraps\u001B[39m(function)\n\u001B[1;32m     88\u001B[0m \u001B[38;5;28;01mdef\u001B[39;00m \u001B[38;5;21mwrapper\u001B[39m(\u001B[38;5;241m*\u001B[39margs: P\u001B[38;5;241m.\u001B[39margs, \u001B[38;5;241m*\u001B[39m\u001B[38;5;241m*\u001B[39mkwargs: P\u001B[38;5;241m.\u001B[39mkwargs) \u001B[38;5;241m-\u001B[39m\u001B[38;5;241m>\u001B[39m T:\n\u001B[1;32m     89\u001B[0m     _rename_keyword_argument(\n\u001B[1;32m     90\u001B[0m         old_name, new_name, kwargs, function\u001B[38;5;241m.\u001B[39m\u001B[38;5;18m__qualname__\u001B[39m, version\n\u001B[1;32m     91\u001B[0m     )\n\u001B[0;32m---> 92\u001B[0m     \u001B[38;5;28;01mreturn\u001B[39;00m \u001B[43mfunction\u001B[49m\u001B[43m(\u001B[49m\u001B[38;5;241;43m*\u001B[39;49m\u001B[43margs\u001B[49m\u001B[43m,\u001B[49m\u001B[43m \u001B[49m\u001B[38;5;241;43m*\u001B[39;49m\u001B[38;5;241;43m*\u001B[39;49m\u001B[43mkwargs\u001B[49m\u001B[43m)\u001B[49m\n",
      "File \u001B[0;32m/opt/miniconda3/envs/meds_etl/lib/python3.10/site-packages/polars/_utils/deprecation.py:92\u001B[0m, in \u001B[0;36mdeprecate_renamed_parameter.<locals>.decorate.<locals>.wrapper\u001B[0;34m(*args, **kwargs)\u001B[0m\n\u001B[1;32m     87\u001B[0m \u001B[38;5;129m@wraps\u001B[39m(function)\n\u001B[1;32m     88\u001B[0m \u001B[38;5;28;01mdef\u001B[39;00m \u001B[38;5;21mwrapper\u001B[39m(\u001B[38;5;241m*\u001B[39margs: P\u001B[38;5;241m.\u001B[39margs, \u001B[38;5;241m*\u001B[39m\u001B[38;5;241m*\u001B[39mkwargs: P\u001B[38;5;241m.\u001B[39mkwargs) \u001B[38;5;241m-\u001B[39m\u001B[38;5;241m>\u001B[39m T:\n\u001B[1;32m     89\u001B[0m     _rename_keyword_argument(\n\u001B[1;32m     90\u001B[0m         old_name, new_name, kwargs, function\u001B[38;5;241m.\u001B[39m\u001B[38;5;18m__qualname__\u001B[39m, version\n\u001B[1;32m     91\u001B[0m     )\n\u001B[0;32m---> 92\u001B[0m     \u001B[38;5;28;01mreturn\u001B[39;00m \u001B[43mfunction\u001B[49m\u001B[43m(\u001B[49m\u001B[38;5;241;43m*\u001B[39;49m\u001B[43margs\u001B[49m\u001B[43m,\u001B[49m\u001B[43m \u001B[49m\u001B[38;5;241;43m*\u001B[39;49m\u001B[38;5;241;43m*\u001B[39;49m\u001B[43mkwargs\u001B[49m\u001B[43m)\u001B[49m\n",
      "File \u001B[0;32m/opt/miniconda3/envs/meds_etl/lib/python3.10/site-packages/polars/io/csv/functions.py:527\u001B[0m, in \u001B[0;36mread_csv\u001B[0;34m(source, has_header, columns, new_columns, separator, comment_prefix, quote_char, skip_rows, schema, schema_overrides, null_values, missing_utf8_is_empty_string, ignore_errors, try_parse_dates, n_threads, infer_schema, infer_schema_length, batch_size, n_rows, encoding, low_memory, rechunk, use_pyarrow, storage_options, skip_rows_after_header, row_index_name, row_index_offset, sample_size, eol_char, raise_if_empty, truncate_ragged_lines, decimal_comma, glob)\u001B[0m\n\u001B[1;32m    519\u001B[0m \u001B[38;5;28;01melse\u001B[39;00m:\n\u001B[1;32m    520\u001B[0m     \u001B[38;5;28;01mwith\u001B[39;00m prepare_file_arg(\n\u001B[1;32m    521\u001B[0m         source,\n\u001B[1;32m    522\u001B[0m         encoding\u001B[38;5;241m=\u001B[39mencoding,\n\u001B[0;32m   (...)\u001B[0m\n\u001B[1;32m    525\u001B[0m         storage_options\u001B[38;5;241m=\u001B[39mstorage_options,\n\u001B[1;32m    526\u001B[0m     ) \u001B[38;5;28;01mas\u001B[39;00m data:\n\u001B[0;32m--> 527\u001B[0m         df \u001B[38;5;241m=\u001B[39m \u001B[43m_read_csv_impl\u001B[49m\u001B[43m(\u001B[49m\n\u001B[1;32m    528\u001B[0m \u001B[43m            \u001B[49m\u001B[43mdata\u001B[49m\u001B[43m,\u001B[49m\n\u001B[1;32m    529\u001B[0m \u001B[43m            \u001B[49m\u001B[43mhas_header\u001B[49m\u001B[38;5;241;43m=\u001B[39;49m\u001B[43mhas_header\u001B[49m\u001B[43m,\u001B[49m\n\u001B[1;32m    530\u001B[0m \u001B[43m            \u001B[49m\u001B[43mcolumns\u001B[49m\u001B[38;5;241;43m=\u001B[39;49m\u001B[43mcolumns\u001B[49m\u001B[43m \u001B[49m\u001B[38;5;28;43;01mif\u001B[39;49;00m\u001B[43m \u001B[49m\u001B[43mcolumns\u001B[49m\u001B[43m \u001B[49m\u001B[38;5;28;43;01melse\u001B[39;49;00m\u001B[43m \u001B[49m\u001B[43mprojection\u001B[49m\u001B[43m,\u001B[49m\n\u001B[1;32m    531\u001B[0m \u001B[43m            \u001B[49m\u001B[43mseparator\u001B[49m\u001B[38;5;241;43m=\u001B[39;49m\u001B[43mseparator\u001B[49m\u001B[43m,\u001B[49m\n\u001B[1;32m    532\u001B[0m \u001B[43m            \u001B[49m\u001B[43mcomment_prefix\u001B[49m\u001B[38;5;241;43m=\u001B[39;49m\u001B[43mcomment_prefix\u001B[49m\u001B[43m,\u001B[49m\n\u001B[1;32m    533\u001B[0m \u001B[43m            \u001B[49m\u001B[43mquote_char\u001B[49m\u001B[38;5;241;43m=\u001B[39;49m\u001B[43mquote_char\u001B[49m\u001B[43m,\u001B[49m\n\u001B[1;32m    534\u001B[0m \u001B[43m            \u001B[49m\u001B[43mskip_rows\u001B[49m\u001B[38;5;241;43m=\u001B[39;49m\u001B[43mskip_rows\u001B[49m\u001B[43m,\u001B[49m\n\u001B[1;32m    535\u001B[0m \u001B[43m            \u001B[49m\u001B[43mschema_overrides\u001B[49m\u001B[38;5;241;43m=\u001B[39;49m\u001B[43mschema_overrides\u001B[49m\u001B[43m,\u001B[49m\n\u001B[1;32m    536\u001B[0m \u001B[43m            \u001B[49m\u001B[43mschema\u001B[49m\u001B[38;5;241;43m=\u001B[39;49m\u001B[43mschema\u001B[49m\u001B[43m,\u001B[49m\n\u001B[1;32m    537\u001B[0m \u001B[43m            \u001B[49m\u001B[43mnull_values\u001B[49m\u001B[38;5;241;43m=\u001B[39;49m\u001B[43mnull_values\u001B[49m\u001B[43m,\u001B[49m\n\u001B[1;32m    538\u001B[0m \u001B[43m            \u001B[49m\u001B[43mmissing_utf8_is_empty_string\u001B[49m\u001B[38;5;241;43m=\u001B[39;49m\u001B[43mmissing_utf8_is_empty_string\u001B[49m\u001B[43m,\u001B[49m\n\u001B[1;32m    539\u001B[0m \u001B[43m            \u001B[49m\u001B[43mignore_errors\u001B[49m\u001B[38;5;241;43m=\u001B[39;49m\u001B[43mignore_errors\u001B[49m\u001B[43m,\u001B[49m\n\u001B[1;32m    540\u001B[0m \u001B[43m            \u001B[49m\u001B[43mtry_parse_dates\u001B[49m\u001B[38;5;241;43m=\u001B[39;49m\u001B[43mtry_parse_dates\u001B[49m\u001B[43m,\u001B[49m\n\u001B[1;32m    541\u001B[0m \u001B[43m            \u001B[49m\u001B[43mn_threads\u001B[49m\u001B[38;5;241;43m=\u001B[39;49m\u001B[43mn_threads\u001B[49m\u001B[43m,\u001B[49m\n\u001B[1;32m    542\u001B[0m \u001B[43m            \u001B[49m\u001B[43minfer_schema_length\u001B[49m\u001B[38;5;241;43m=\u001B[39;49m\u001B[43minfer_schema_length\u001B[49m\u001B[43m,\u001B[49m\n\u001B[1;32m    543\u001B[0m \u001B[43m            \u001B[49m\u001B[43mbatch_size\u001B[49m\u001B[38;5;241;43m=\u001B[39;49m\u001B[43mbatch_size\u001B[49m\u001B[43m,\u001B[49m\n\u001B[1;32m    544\u001B[0m \u001B[43m            \u001B[49m\u001B[43mn_rows\u001B[49m\u001B[38;5;241;43m=\u001B[39;49m\u001B[43mn_rows\u001B[49m\u001B[43m,\u001B[49m\n\u001B[1;32m    545\u001B[0m \u001B[43m            \u001B[49m\u001B[43mencoding\u001B[49m\u001B[38;5;241;43m=\u001B[39;49m\u001B[43mencoding\u001B[49m\u001B[43m \u001B[49m\u001B[38;5;28;43;01mif\u001B[39;49;00m\u001B[43m \u001B[49m\u001B[43mencoding\u001B[49m\u001B[43m \u001B[49m\u001B[38;5;241;43m==\u001B[39;49m\u001B[43m \u001B[49m\u001B[38;5;124;43m\"\u001B[39;49m\u001B[38;5;124;43mutf8-lossy\u001B[39;49m\u001B[38;5;124;43m\"\u001B[39;49m\u001B[43m \u001B[49m\u001B[38;5;28;43;01melse\u001B[39;49;00m\u001B[43m \u001B[49m\u001B[38;5;124;43m\"\u001B[39;49m\u001B[38;5;124;43mutf8\u001B[39;49m\u001B[38;5;124;43m\"\u001B[39;49m\u001B[43m,\u001B[49m\n\u001B[1;32m    546\u001B[0m \u001B[43m            \u001B[49m\u001B[43mlow_memory\u001B[49m\u001B[38;5;241;43m=\u001B[39;49m\u001B[43mlow_memory\u001B[49m\u001B[43m,\u001B[49m\n\u001B[1;32m    547\u001B[0m \u001B[43m            \u001B[49m\u001B[43mrechunk\u001B[49m\u001B[38;5;241;43m=\u001B[39;49m\u001B[43mrechunk\u001B[49m\u001B[43m,\u001B[49m\n\u001B[1;32m    548\u001B[0m \u001B[43m            \u001B[49m\u001B[43mskip_rows_after_header\u001B[49m\u001B[38;5;241;43m=\u001B[39;49m\u001B[43mskip_rows_after_header\u001B[49m\u001B[43m,\u001B[49m\n\u001B[1;32m    549\u001B[0m \u001B[43m            \u001B[49m\u001B[43mrow_index_name\u001B[49m\u001B[38;5;241;43m=\u001B[39;49m\u001B[43mrow_index_name\u001B[49m\u001B[43m,\u001B[49m\n\u001B[1;32m    550\u001B[0m \u001B[43m            \u001B[49m\u001B[43mrow_index_offset\u001B[49m\u001B[38;5;241;43m=\u001B[39;49m\u001B[43mrow_index_offset\u001B[49m\u001B[43m,\u001B[49m\n\u001B[1;32m    551\u001B[0m \u001B[43m            \u001B[49m\u001B[43meol_char\u001B[49m\u001B[38;5;241;43m=\u001B[39;49m\u001B[43meol_char\u001B[49m\u001B[43m,\u001B[49m\n\u001B[1;32m    552\u001B[0m \u001B[43m            \u001B[49m\u001B[43mraise_if_empty\u001B[49m\u001B[38;5;241;43m=\u001B[39;49m\u001B[43mraise_if_empty\u001B[49m\u001B[43m,\u001B[49m\n\u001B[1;32m    553\u001B[0m \u001B[43m            \u001B[49m\u001B[43mtruncate_ragged_lines\u001B[49m\u001B[38;5;241;43m=\u001B[39;49m\u001B[43mtruncate_ragged_lines\u001B[49m\u001B[43m,\u001B[49m\n\u001B[1;32m    554\u001B[0m \u001B[43m            \u001B[49m\u001B[43mdecimal_comma\u001B[49m\u001B[38;5;241;43m=\u001B[39;49m\u001B[43mdecimal_comma\u001B[49m\u001B[43m,\u001B[49m\n\u001B[1;32m    555\u001B[0m \u001B[43m            \u001B[49m\u001B[43mglob\u001B[49m\u001B[38;5;241;43m=\u001B[39;49m\u001B[43mglob\u001B[49m\u001B[43m,\u001B[49m\n\u001B[1;32m    556\u001B[0m \u001B[43m        \u001B[49m\u001B[43m)\u001B[49m\n\u001B[1;32m    558\u001B[0m \u001B[38;5;28;01mif\u001B[39;00m new_columns:\n\u001B[1;32m    559\u001B[0m     \u001B[38;5;28;01mreturn\u001B[39;00m _update_columns(df, new_columns)\n",
      "File \u001B[0;32m/opt/miniconda3/envs/meds_etl/lib/python3.10/site-packages/polars/io/csv/functions.py:672\u001B[0m, in \u001B[0;36m_read_csv_impl\u001B[0;34m(source, has_header, columns, separator, comment_prefix, quote_char, skip_rows, schema, schema_overrides, null_values, missing_utf8_is_empty_string, ignore_errors, try_parse_dates, n_threads, infer_schema_length, batch_size, n_rows, encoding, low_memory, rechunk, skip_rows_after_header, row_index_name, row_index_offset, sample_size, eol_char, raise_if_empty, truncate_ragged_lines, decimal_comma, glob)\u001B[0m\n\u001B[1;32m    668\u001B[0m         \u001B[38;5;28;01mraise\u001B[39;00m \u001B[38;5;167;01mValueError\u001B[39;00m(msg)\n\u001B[1;32m    670\u001B[0m projection, columns \u001B[38;5;241m=\u001B[39m parse_columns_arg(columns)\n\u001B[0;32m--> 672\u001B[0m pydf \u001B[38;5;241m=\u001B[39m \u001B[43mPyDataFrame\u001B[49m\u001B[38;5;241;43m.\u001B[39;49m\u001B[43mread_csv\u001B[49m\u001B[43m(\u001B[49m\n\u001B[1;32m    673\u001B[0m \u001B[43m    \u001B[49m\u001B[43msource\u001B[49m\u001B[43m,\u001B[49m\n\u001B[1;32m    674\u001B[0m \u001B[43m    \u001B[49m\u001B[43minfer_schema_length\u001B[49m\u001B[43m,\u001B[49m\n\u001B[1;32m    675\u001B[0m \u001B[43m    \u001B[49m\u001B[43mbatch_size\u001B[49m\u001B[43m,\u001B[49m\n\u001B[1;32m    676\u001B[0m \u001B[43m    \u001B[49m\u001B[43mhas_header\u001B[49m\u001B[43m,\u001B[49m\n\u001B[1;32m    677\u001B[0m \u001B[43m    \u001B[49m\u001B[43mignore_errors\u001B[49m\u001B[43m,\u001B[49m\n\u001B[1;32m    678\u001B[0m \u001B[43m    \u001B[49m\u001B[43mn_rows\u001B[49m\u001B[43m,\u001B[49m\n\u001B[1;32m    679\u001B[0m \u001B[43m    \u001B[49m\u001B[43mskip_rows\u001B[49m\u001B[43m,\u001B[49m\n\u001B[1;32m    680\u001B[0m \u001B[43m    \u001B[49m\u001B[43mprojection\u001B[49m\u001B[43m,\u001B[49m\n\u001B[1;32m    681\u001B[0m \u001B[43m    \u001B[49m\u001B[43mseparator\u001B[49m\u001B[43m,\u001B[49m\n\u001B[1;32m    682\u001B[0m \u001B[43m    \u001B[49m\u001B[43mrechunk\u001B[49m\u001B[43m,\u001B[49m\n\u001B[1;32m    683\u001B[0m \u001B[43m    \u001B[49m\u001B[43mcolumns\u001B[49m\u001B[43m,\u001B[49m\n\u001B[1;32m    684\u001B[0m \u001B[43m    \u001B[49m\u001B[43mencoding\u001B[49m\u001B[43m,\u001B[49m\n\u001B[1;32m    685\u001B[0m \u001B[43m    \u001B[49m\u001B[43mn_threads\u001B[49m\u001B[43m,\u001B[49m\n\u001B[1;32m    686\u001B[0m \u001B[43m    \u001B[49m\u001B[43mpath\u001B[49m\u001B[43m,\u001B[49m\n\u001B[1;32m    687\u001B[0m \u001B[43m    \u001B[49m\u001B[43mdtype_list\u001B[49m\u001B[43m,\u001B[49m\n\u001B[1;32m    688\u001B[0m \u001B[43m    \u001B[49m\u001B[43mdtype_slice\u001B[49m\u001B[43m,\u001B[49m\n\u001B[1;32m    689\u001B[0m \u001B[43m    \u001B[49m\u001B[43mlow_memory\u001B[49m\u001B[43m,\u001B[49m\n\u001B[1;32m    690\u001B[0m \u001B[43m    \u001B[49m\u001B[43mcomment_prefix\u001B[49m\u001B[43m,\u001B[49m\n\u001B[1;32m    691\u001B[0m \u001B[43m    \u001B[49m\u001B[43mquote_char\u001B[49m\u001B[43m,\u001B[49m\n\u001B[1;32m    692\u001B[0m \u001B[43m    \u001B[49m\u001B[43mprocessed_null_values\u001B[49m\u001B[43m,\u001B[49m\n\u001B[1;32m    693\u001B[0m \u001B[43m    \u001B[49m\u001B[43mmissing_utf8_is_empty_string\u001B[49m\u001B[43m,\u001B[49m\n\u001B[1;32m    694\u001B[0m \u001B[43m    \u001B[49m\u001B[43mtry_parse_dates\u001B[49m\u001B[43m,\u001B[49m\n\u001B[1;32m    695\u001B[0m \u001B[43m    \u001B[49m\u001B[43mskip_rows_after_header\u001B[49m\u001B[43m,\u001B[49m\n\u001B[1;32m    696\u001B[0m \u001B[43m    \u001B[49m\u001B[43mparse_row_index_args\u001B[49m\u001B[43m(\u001B[49m\u001B[43mrow_index_name\u001B[49m\u001B[43m,\u001B[49m\u001B[43m \u001B[49m\u001B[43mrow_index_offset\u001B[49m\u001B[43m)\u001B[49m\u001B[43m,\u001B[49m\n\u001B[1;32m    697\u001B[0m \u001B[43m    \u001B[49m\u001B[43meol_char\u001B[49m\u001B[38;5;241;43m=\u001B[39;49m\u001B[43meol_char\u001B[49m\u001B[43m,\u001B[49m\n\u001B[1;32m    698\u001B[0m \u001B[43m    \u001B[49m\u001B[43mraise_if_empty\u001B[49m\u001B[38;5;241;43m=\u001B[39;49m\u001B[43mraise_if_empty\u001B[49m\u001B[43m,\u001B[49m\n\u001B[1;32m    699\u001B[0m \u001B[43m    \u001B[49m\u001B[43mtruncate_ragged_lines\u001B[49m\u001B[38;5;241;43m=\u001B[39;49m\u001B[43mtruncate_ragged_lines\u001B[49m\u001B[43m,\u001B[49m\n\u001B[1;32m    700\u001B[0m \u001B[43m    \u001B[49m\u001B[43mdecimal_comma\u001B[49m\u001B[38;5;241;43m=\u001B[39;49m\u001B[43mdecimal_comma\u001B[49m\u001B[43m,\u001B[49m\n\u001B[1;32m    701\u001B[0m \u001B[43m    \u001B[49m\u001B[43mschema\u001B[49m\u001B[38;5;241;43m=\u001B[39;49m\u001B[43mschema\u001B[49m\u001B[43m,\u001B[49m\n\u001B[1;32m    702\u001B[0m \u001B[43m\u001B[49m\u001B[43m)\u001B[49m\n\u001B[1;32m    703\u001B[0m \u001B[38;5;28;01mreturn\u001B[39;00m wrap_df(pydf)\n",
      "\u001B[0;31mComputeError\u001B[0m: could not parse `1.21` as dtype `i64` at column 'value_as_number' (column number 9)\n\nThe current offset in the file is 57767 bytes.\n\nYou might want to try:\n- increasing `infer_schema_length` (e.g. `infer_schema_length=10000`),\n- specifying correct dtype with the `schema_overrides` argument\n- setting `ignore_errors` to `True`,\n- adding `1.21` to the `null_values` list.\n\nOriginal error: ```remaining bytes non-empty```"
     ]
    }
   ],
   "execution_count": 3
  },
  {
   "metadata": {
    "ExecuteTime": {
     "end_time": "2025-01-17T12:22:25.376133Z",
     "start_time": "2025-01-17T12:22:25.370511Z"
    }
   },
   "cell_type": "code",
   "source": "pl.read_parquet(\"/Users/robin/Documents/datasets/mimic-iv-demo-data-in-the-omop-common-data-model-0.9/meds_etl_output/data/data_0.parquet\")",
   "id": "6b8bb42dc1e3fb41",
   "outputs": [
    {
     "data": {
      "text/plain": [
       "shape: (172, 10)\n",
       "┌────────────┬────────────┬────────────┬────────────┬───┬───────────┬───────────┬──────┬───────────┐\n",
       "│ subject_id ┆ time       ┆ code       ┆ numeric_va ┆ … ┆ table     ┆ text_valu ┆ unit ┆ visit_id  │\n",
       "│ ---        ┆ ---        ┆ ---        ┆ lue        ┆   ┆ ---       ┆ e         ┆ ---  ┆ ---       │\n",
       "│ i64        ┆ datetime[μ ┆ str        ┆ ---        ┆   ┆ str       ┆ ---       ┆ str  ┆ i64       │\n",
       "│            ┆ s]         ┆            ┆ f32        ┆   ┆           ┆ str       ┆      ┆           │\n",
       "╞════════════╪════════════╪════════════╪════════════╪═══╪═══════════╪═══════════╪══════╪═══════════╡\n",
       "│ -906646134 ┆ 2125-01-01 ┆ MEDS_BIRTH ┆ null       ┆ … ┆ person    ┆ null      ┆ null ┆ null      │\n",
       "│ 8710750663 ┆ 00:00:00   ┆            ┆            ┆   ┆           ┆           ┆      ┆           │\n",
       "│ -906646134 ┆ 2125-01-01 ┆ mimiciv_pe ┆ null       ┆ … ┆ person    ┆ null      ┆ null ┆ null      │\n",
       "│ 8710750663 ┆ 00:00:00   ┆ r_ethnicit ┆            ┆   ┆           ┆           ┆      ┆           │\n",
       "│            ┆            ┆ y/UNKNOWN  ┆            ┆   ┆           ┆           ┆      ┆           │\n",
       "│ -906646134 ┆ 2185-01-22 ┆ MEDS_DEATH ┆ null       ┆ … ┆ death     ┆ null      ┆ null ┆ null      │\n",
       "│ 8710750663 ┆ 14:25:00   ┆            ┆            ┆   ┆           ┆           ┆      ┆           │\n",
       "│ -899367553 ┆ 2116-01-01 ┆ MEDS_BIRTH ┆ null       ┆ … ┆ person    ┆ null      ┆ null ┆ null      │\n",
       "│ 4959689080 ┆ 00:00:00   ┆            ┆            ┆   ┆           ┆           ┆      ┆           │\n",
       "│ -899367553 ┆ 2181-09-29 ┆ mimiciv_pr ┆ null       ┆ … ┆ procedure ┆ null      ┆ null ┆ 680145155 │\n",
       "│ 4959689080 ┆ 00:00:00   ┆ oc_datetim ┆            ┆   ┆           ┆           ┆      ┆ 490561534 │\n",
       "│            ┆            ┆ eevents/22 ┆            ┆   ┆           ┆           ┆      ┆ 9         │\n",
       "│            ┆            ┆ …          ┆            ┆   ┆           ┆           ┆      ┆           │\n",
       "│ …          ┆ …          ┆ …          ┆ …          ┆ … ┆ …         ┆ …         ┆ …    ┆ …         │\n",
       "│ 8090044958 ┆ 2079-01-01 ┆ MEDS_BIRTH ┆ null       ┆ … ┆ person    ┆ null      ┆ null ┆ null      │\n",
       "│ 540695372  ┆ 00:00:00   ┆            ┆            ┆   ┆           ┆           ┆      ┆           │\n",
       "│ 8480470964 ┆ 2043-01-01 ┆ MEDS_BIRTH ┆ null       ┆ … ┆ person    ┆ null      ┆ null ┆ null      │\n",
       "│ 666031560  ┆ 00:00:00   ┆            ┆            ┆   ┆           ┆           ┆      ┆           │\n",
       "│ 8527170356 ┆ 2128-01-01 ┆ MEDS_BIRTH ┆ null       ┆ … ┆ person    ┆ null      ┆ null ┆ null      │\n",
       "│ 523164323  ┆ 00:00:00   ┆            ┆            ┆   ┆           ┆           ┆      ┆           │\n",
       "│ 8692405834 ┆ 2119-01-01 ┆ MEDS_BIRTH ┆ null       ┆ … ┆ person    ┆ null      ┆ null ┆ null      │\n",
       "│ 444096922  ┆ 00:00:00   ┆            ┆            ┆   ┆           ┆           ┆      ┆           │\n",
       "│ 8805478484 ┆ 2062-01-01 ┆ MEDS_BIRTH ┆ null       ┆ … ┆ person    ┆ null      ┆ null ┆ null      │\n",
       "│ 003283429  ┆ 00:00:00   ┆            ┆            ┆   ┆           ┆           ┆      ┆           │\n",
       "└────────────┴────────────┴────────────┴────────────┴───┴───────────┴───────────┴──────┴───────────┘"
      ],
      "text/html": [
       "<div><style>\n",
       ".dataframe > thead > tr,\n",
       ".dataframe > tbody > tr {\n",
       "  text-align: right;\n",
       "  white-space: pre-wrap;\n",
       "}\n",
       "</style>\n",
       "<small>shape: (172, 10)</small><table border=\"1\" class=\"dataframe\"><thead><tr><th>subject_id</th><th>time</th><th>code</th><th>numeric_value</th><th>end</th><th>source_concept_id</th><th>table</th><th>text_value</th><th>unit</th><th>visit_id</th></tr><tr><td>i64</td><td>datetime[μs]</td><td>str</td><td>f32</td><td>datetime[μs]</td><td>i64</td><td>str</td><td>str</td><td>str</td><td>i64</td></tr></thead><tbody><tr><td>-9066461348710750663</td><td>2125-01-01 00:00:00</td><td>&quot;MEDS_BIRTH&quot;</td><td>null</td><td>null</td><td>null</td><td>&quot;person&quot;</td><td>null</td><td>null</td><td>null</td></tr><tr><td>-9066461348710750663</td><td>2125-01-01 00:00:00</td><td>&quot;mimiciv_per_ethnicity/UNKNOWN&quot;</td><td>null</td><td>null</td><td>2000001401</td><td>&quot;person&quot;</td><td>null</td><td>null</td><td>null</td></tr><tr><td>-9066461348710750663</td><td>2185-01-22 14:25:00</td><td>&quot;MEDS_DEATH&quot;</td><td>null</td><td>null</td><td>null</td><td>&quot;death&quot;</td><td>null</td><td>null</td><td>null</td></tr><tr><td>-8993675534959689080</td><td>2116-01-01 00:00:00</td><td>&quot;MEDS_BIRTH&quot;</td><td>null</td><td>null</td><td>null</td><td>&quot;person&quot;</td><td>null</td><td>null</td><td>null</td></tr><tr><td>-8993675534959689080</td><td>2181-09-29 00:00:00</td><td>&quot;mimiciv_proc_datetimeevents/22…</td><td>null</td><td>null</td><td>2000004023</td><td>&quot;procedure&quot;</td><td>null</td><td>null</td><td>6801451554905615349</td></tr><tr><td>&hellip;</td><td>&hellip;</td><td>&hellip;</td><td>&hellip;</td><td>&hellip;</td><td>&hellip;</td><td>&hellip;</td><td>&hellip;</td><td>&hellip;</td><td>&hellip;</td></tr><tr><td>8090044958540695372</td><td>2079-01-01 00:00:00</td><td>&quot;MEDS_BIRTH&quot;</td><td>null</td><td>null</td><td>null</td><td>&quot;person&quot;</td><td>null</td><td>null</td><td>null</td></tr><tr><td>8480470964666031560</td><td>2043-01-01 00:00:00</td><td>&quot;MEDS_BIRTH&quot;</td><td>null</td><td>null</td><td>null</td><td>&quot;person&quot;</td><td>null</td><td>null</td><td>null</td></tr><tr><td>8527170356523164323</td><td>2128-01-01 00:00:00</td><td>&quot;MEDS_BIRTH&quot;</td><td>null</td><td>null</td><td>null</td><td>&quot;person&quot;</td><td>null</td><td>null</td><td>null</td></tr><tr><td>8692405834444096922</td><td>2119-01-01 00:00:00</td><td>&quot;MEDS_BIRTH&quot;</td><td>null</td><td>null</td><td>null</td><td>&quot;person&quot;</td><td>null</td><td>null</td><td>null</td></tr><tr><td>8805478484003283429</td><td>2062-01-01 00:00:00</td><td>&quot;MEDS_BIRTH&quot;</td><td>null</td><td>null</td><td>null</td><td>&quot;person&quot;</td><td>null</td><td>null</td><td>null</td></tr></tbody></table></div>"
      ]
     },
     "execution_count": 6,
     "metadata": {},
     "output_type": "execute_result"
    }
   ],
   "execution_count": 6
  },
  {
   "metadata": {
    "ExecuteTime": {
     "end_time": "2024-12-11T09:15:44.719037Z",
     "start_time": "2024-12-11T09:15:44.715623Z"
    }
   },
   "cell_type": "code",
   "source": "pl.read_parquet(\"/Users/robin/Documents/datasets/mimic-iv-demo-data-in-the-omop-common-data-model-0.9/meds_etl_output/metadata/codes.parquet\")",
   "id": "b9b301569c67e0f1",
   "outputs": [
    {
     "data": {
      "text/plain": [
       "shape: (0, 3)\n",
       "┌──────┬─────────────┬──────────────┐\n",
       "│ code ┆ description ┆ parent_codes │\n",
       "│ ---  ┆ ---         ┆ ---          │\n",
       "│ str  ┆ str         ┆ list[str]    │\n",
       "╞══════╪═════════════╪══════════════╡\n",
       "└──────┴─────────────┴──────────────┘"
      ],
      "text/html": [
       "<div><style>\n",
       ".dataframe > thead > tr,\n",
       ".dataframe > tbody > tr {\n",
       "  text-align: right;\n",
       "  white-space: pre-wrap;\n",
       "}\n",
       "</style>\n",
       "<small>shape: (0, 3)</small><table border=\"1\" class=\"dataframe\"><thead><tr><th>code</th><th>description</th><th>parent_codes</th></tr><tr><td>str</td><td>str</td><td>list[str]</td></tr></thead><tbody></tbody></table></div>"
      ]
     },
     "execution_count": 8,
     "metadata": {},
     "output_type": "execute_result"
    }
   ],
   "execution_count": 8
  },
  {
   "metadata": {
    "ExecuteTime": {
     "end_time": "2025-02-07T12:30:58.119748Z",
     "start_time": "2025-02-07T12:30:57.956618Z"
    }
   },
   "cell_type": "code",
   "source": "pl.read_parquet(\"/Users/robin/Documents/datasets/INSPIRE_MEDS/MEDS_cohort/data/train/2.parquet\")",
   "id": "28eb9dc0c332b887",
   "outputs": [
    {
     "ename": "NameError",
     "evalue": "name 'pl' is not defined",
     "output_type": "error",
     "traceback": [
      "\u001B[0;31m---------------------------------------------------------------------------\u001B[0m",
      "\u001B[0;31mNameError\u001B[0m                                 Traceback (most recent call last)",
      "Cell \u001B[0;32mIn[1], line 1\u001B[0m\n\u001B[0;32m----> 1\u001B[0m \u001B[43mpl\u001B[49m\u001B[38;5;241m.\u001B[39mread_parquet(\u001B[38;5;124m\"\u001B[39m\u001B[38;5;124m/Users/robin/Documents/datasets/INSPIRE_MEDS/MEDS_cohort/data/train/2.parquet\u001B[39m\u001B[38;5;124m\"\u001B[39m)\n",
      "\u001B[0;31mNameError\u001B[0m: name 'pl' is not defined"
     ]
    }
   ],
   "execution_count": 1
  },
  {
   "metadata": {
    "ExecuteTime": {
     "end_time": "2025-03-04T09:49:34.849286Z",
     "start_time": "2025-03-04T09:49:34.822947Z"
    }
   },
   "cell_type": "code",
   "source": "pl.read_parquet(\"/Users/robin/Documents/datasets/meds/miiv_demo_omop/MEDS_cohort/metadata/codes.parquet\")",
   "id": "195a76454a63c9f3",
   "outputs": [
    {
     "data": {
      "text/plain": [
       "shape: (0, 3)\n",
       "┌──────┬─────────────┬──────────────┐\n",
       "│ code ┆ description ┆ parent_codes │\n",
       "│ ---  ┆ ---         ┆ ---          │\n",
       "│ str  ┆ str         ┆ list[str]    │\n",
       "╞══════╪═════════════╪══════════════╡\n",
       "└──────┴─────────────┴──────────────┘"
      ],
      "text/html": [
       "<div><style>\n",
       ".dataframe > thead > tr,\n",
       ".dataframe > tbody > tr {\n",
       "  text-align: right;\n",
       "  white-space: pre-wrap;\n",
       "}\n",
       "</style>\n",
       "<small>shape: (0, 3)</small><table border=\"1\" class=\"dataframe\"><thead><tr><th>code</th><th>description</th><th>parent_codes</th></tr><tr><td>str</td><td>str</td><td>list[str]</td></tr></thead><tbody></tbody></table></div>"
      ]
     },
     "execution_count": 3,
     "metadata": {},
     "output_type": "execute_result"
    }
   ],
   "execution_count": 3
  }
 ],
 "metadata": {
  "kernelspec": {
   "display_name": "Python 3",
   "language": "python",
   "name": "python3"
  },
  "language_info": {
   "codemirror_mode": {
    "name": "ipython",
    "version": 2
   },
   "file_extension": ".py",
   "mimetype": "text/x-python",
   "name": "python",
   "nbconvert_exporter": "python",
   "pygments_lexer": "ipython2",
   "version": "2.7.6"
  }
 },
 "nbformat": 4,
 "nbformat_minor": 5
}
